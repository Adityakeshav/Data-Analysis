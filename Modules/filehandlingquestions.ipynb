{
 "cells": [
  {
   "cell_type": "markdown",
   "metadata": {},
   "source": [
    "# Module: File Handling Assignments\n",
    "## Lesson: File Handling and Operations\n",
    "### Assignment 1: Reading a File\n",
    "\n",
    "Write a function that reads the contents of a file named `sample.txt` and prints each line.\n",
    "\n",
    "### Assignment 2: Writing to a File\n",
    "\n",
    "Write a function that writes a list of strings to a file named `output.txt`, with each string on a new line.\n",
    "\n",
    "### Assignment 3: Copying a File\n",
    "\n",
    "Write a function that copies the contents of a file named `source.txt` to a new file named `destination.txt`.\n",
    "\n",
    "### Assignment 4: Appending to a File\n",
    "\n",
    "Write a function that appends a given string to the end of a file named `log.txt`.\n",
    "\n",
    "### Assignment 5: Counting Words in a File\n",
    "\n",
    "Write a function that reads the contents of a file named `document.txt` and returns the number of words in the file.\n",
    "\n",
    "### Assignment 6: Finding and Replacing Text\n",
    "\n",
    "Write a function that finds and replaces all occurrences of a given word in a file named `data.txt` with another word.\n",
    "\n",
    "### Assignment 7: Reading a File in Reverse\n",
    "\n",
    "Write a function that reads the contents of a file named `reverse.txt` and prints each line in reverse order.\n",
    "\n",
    "### Assignment 8: Counting Lines, Words, and Characters\n",
    "\n",
    "Write a function that reads the contents of a file named `stats.txt` and returns the number of lines, words, and characters in the file.\n",
    "\n",
    "### Assignment 9: Merging Multiple Files\n",
    "\n",
    "Write a function that merges the contents of multiple files into a single file named `merged.txt`.\n",
    "\n",
    "### Assignment 10: Splitting a Large File\n",
    "\n",
    "Write a function that splits a large file named `large.txt` into smaller files of 100 lines each.\n",
    "\n",
    "### Assignment 11: Creating a Log File\n",
    "\n",
    "Write a function that creates a log file named `activity.log` and writes log messages with timestamps.\n",
    "\n",
    "### Assignment 12: Binary File Operations\n",
    "\n",
    "Write a function that reads a binary file named `image.bin` and writes its contents to another binary file named `copy_image.bin`.\n",
    "\n",
    "### Assignment 13: CSV File Operations\n",
    "\n",
    "Write a function that reads a CSV file named `data.csv` and prints its contents as a list of dictionaries.\n",
    "\n",
    "### Assignment 14: JSON File Operations\n",
    "\n",
    "Write a function that reads a JSON file named `data.json` and prints its contents as a Python dictionary.\n",
    "\n",
    "### Assignment 15: File Permission Handling\n",
    "\n",
    "Write a function that attempts to read a file named `protected.txt` and handles any permission errors gracefully by printing an error message."
   ]
  },
  {
   "cell_type": "code",
   "execution_count": 1,
   "id": "66f12dd7",
   "metadata": {},
   "outputs": [
    {
     "name": "stdout",
     "output_type": "stream",
     "text": [
      "hey this is sample file\n",
      "\n",
      "regards\n",
      "Aditya Keshav\n"
     ]
    }
   ],
   "source": [
    "#Write a function that reads the contents of a file named `sample.txt` and prints each line.\n",
    "with open('sample.txt','r')as file:\n",
    "    for line in file:\n",
    "        print(line.strip())\n"
   ]
  },
  {
   "cell_type": "code",
   "execution_count": 4,
   "metadata": {},
   "outputs": [],
   "source": [
    "#Write a function that writes a list of strings to a file named `output.txt`, with each string on a new line.\n",
    "def write_list_to_file(lst, filename='output.txt'):\n",
    "    with open(filename, 'w') as file:\n",
    "        for item in lst:\n",
    "            file.write(f\"{item}\\n\")\n",
    "\n",
    "# Example usage\n",
    "strings_list = ['Chini', 'mirch', 'dhaniya']\n",
    "write_list_to_file(strings_list)"
   ]
  },
  {
   "cell_type": "code",
   "execution_count": 9,
   "id": "723dc430",
   "metadata": {},
   "outputs": [
    {
     "name": "stdout",
     "output_type": "stream",
     "text": [
      "hey\n"
     ]
    }
   ],
   "source": [
    "# Write a function that appends a given string to the end of a file named `log.txt`.\n",
    "with open('output.txt','a')as file:\n",
    "    file.write('hey')\n",
    "with open('output.txt','r')as file:\n",
    "    print(file.read())"
   ]
  },
  {
   "cell_type": "code",
   "execution_count": 16,
   "id": "2e0aa584",
   "metadata": {},
   "outputs": [
    {
     "name": "stdout",
     "output_type": "stream",
     "text": [
      "['hey this is sample file \\n', '\\n', 'regards\\n', 'Aditya Keshav']\n",
      "4\n",
      "8\n"
     ]
    }
   ],
   "source": [
    "with open('sample.txt','r')as file:\n",
    "    lines =file.readlines()\n",
    "    line_count=len(lines)\n",
    "    word_count=sum(len(line.split()) for line in lines)\n",
    "    print(lines)\n",
    "    print(len(lines))\n",
    "    print(word_count)"
   ]
  },
  {
   "cell_type": "code",
   "execution_count": 12,
   "id": "db48f9f0",
   "metadata": {},
   "outputs": [
    {
     "data": {
      "text/plain": [
       "49"
      ]
     },
     "execution_count": 12,
     "metadata": {},
     "output_type": "execute_result"
    }
   ],
   "source": [
    "#Write a function that reads the contents of a file named `document.txt` and returns the number of words in the file.\n",
    "def count_word(filename='document.txt'):\n",
    "    with open(filename,'r')as file:\n",
    "        lines =file.readlines()\n",
    "        line_count=len(lines)\n",
    "        word_count=sum(len(line.split()) for line in lines)\n",
    "    return word_count\n",
    "\n",
    "count_word()"
   ]
  },
  {
   "cell_type": "code",
   "execution_count": 19,
   "id": "c7eae6bc",
   "metadata": {},
   "outputs": [
    {
     "name": "stdout",
     "output_type": "stream",
     "text": [
      "new_words\n",
      "\n"
     ]
    }
   ],
   "source": [
    "#Write a function that finds and replaces all occurrences of a given word in a file named `data.txt` with another word.\n",
    "def find_and_replace(filename='data.txt', old_word='', new_word=''):\n",
    "    with open(filename, 'r') as file:\n",
    "        content = file.read()\n",
    "    \n",
    "    content = content.replace(old_word, new_word)\n",
    "    \n",
    "    with open(filename, 'w') as file:\n",
    "        file.write(content)\n",
    "    with open(filename,'r')as file:\n",
    "        print(file.read())\n",
    "# Example usage\n",
    "find_and_replace('data.txt', 'old_word', 'new_word')"
   ]
  },
  {
   "cell_type": "code",
   "execution_count": 29,
   "id": "00c4c55e",
   "metadata": {},
   "outputs": [
    {
     "name": "stdout",
     "output_type": "stream",
     "text": [
      "\n"
     ]
    }
   ],
   "source": [
    "#Write a function that reads the contents of a file named `reverse.txt` and prints each line in reverse order.\n",
    "def reverse_file(filename='sample.txt'):\n",
    "    with open(filename,'r')as file:\n",
    "        content=file.read()\n",
    "        \n",
    "    with open(filename,'w+')as file:\n",
    "        content=file.read()\n",
    "        reverse_content=content[::-1]\n",
    "        file.seek(0)\n",
    "        file.write(reverse_content)\n",
    "        file.seek(0)\n",
    "    with open(filename,'r')as file:\n",
    "        print(file.read())\n",
    "\n",
    "reverse_file()"
   ]
  },
  {
   "cell_type": "code",
   "execution_count": null,
   "id": "4bf0b052",
   "metadata": {},
   "outputs": [],
   "source": [
    "def reverse_file(filename='reverse.txt'):\n",
    "    with open(filename, 'r') as file:\n",
    "        lines = file.readlines()\n",
    "    \n",
    "    reversed_lines = [line.strip()[::-1] for line in lines]\n",
    "    \n",
    "    for line in reversed_lines:\n",
    "        print(line)\n",
    "\n",
    "# Example usage\n",
    "reverse_file()\n"
   ]
  },
  {
   "cell_type": "code",
   "execution_count": 30,
   "id": "7e277961",
   "metadata": {},
   "outputs": [],
   "source": [
    "#Write a function that merges the contents of multiple files into a single file named `merged.txt`.\n",
    "def merge_files(file_list, output_filename='merged.txt'):\n",
    "    with open(output_filename, 'w') as outfile:\n",
    "        for fname in file_list:\n",
    "            with open(fname) as infile:\n",
    "                outfile.write(infile.read())\n",
    "                outfile.write(\"\\n\")\n",
    "\n",
    "# Example usage\n",
    "files_to_merge = ['sample.txt', 'output.txt', 'data.txt']\n",
    "merge_files(files_to_merge)\n"
   ]
  },
  {
   "cell_type": "code",
   "execution_count": 32,
   "id": "71f149e1",
   "metadata": {},
   "outputs": [],
   "source": [
    "def split_large_file(filename='large.txt', lines_per_file=100):\n",
    "    with open(filename, 'r') as file:\n",
    "        lines = file.readlines()\n",
    "    \n",
    "    for i in range(0, len(lines), lines_per_file):\n",
    "        part_filename = f\"{filename}_part_{i // lines_per_file + 1}.txt\"\n",
    "        with open(part_filename, 'w') as part_file:\n",
    "            part_file.writelines(lines[i:i + lines_per_file])\n",
    "\n",
    "# Example usage\n",
    "split_large_file()"
   ]
  },
  {
   "cell_type": "code",
   "execution_count": null,
   "id": "b35b1107",
   "metadata": {},
   "outputs": [],
   "source": [
    "def split_large_file(filename='large.txt', lines_per_file=100):\n",
    "    # Open the specified file in read mode\n",
    "    with open(filename, 'r') as file:\n",
    "        # Read all lines from the file into a list\n",
    "        lines = file.readlines()\n",
    "    \n",
    "    # Iterate over the lines in chunks of 'lines_per_file'\n",
    "    for i in range(0, len(lines), lines_per_file):\n",
    "        # Create a new filename for each chunk\n",
    "        part_filename = f\"{filename}_part_{i // lines_per_file + 1}.txt\"\n",
    "        # Open the new file in write mode\n",
    "        with open(part_filename, 'w') as part_file:\n",
    "            # Write the chunk of lines to the new file\n",
    "            part_file.writelines(lines[i:i + lines_per_file])\n",
    "\n",
    "# Example usage\n",
    "split_large_file()\n"
   ]
  },
  {
   "cell_type": "code",
   "execution_count": 33,
   "id": "7f255793",
   "metadata": {},
   "outputs": [],
   "source": [
    "from datetime import datetime\n",
    "\n",
    "#Write a function that creates a log file named `activity.log` and writes log messages with timestamps.\n",
    "def write_log(message, filename='activity.log'):\n",
    "    timestamp = datetime.now().strftime('%Y-%m-%d %H:%M:%S')\n",
    "    with open(filename, 'a') as file:\n",
    "        file.write(f\"{timestamp} - {message}\\n\")\n",
    "\n",
    "# Example usage\n",
    "write_log('This is a log message.')"
   ]
  },
  {
   "cell_type": "code",
   "execution_count": 35,
   "id": "db42742e",
   "metadata": {},
   "outputs": [
    {
     "name": "stdout",
     "output_type": "stream",
     "text": [
      "[]\n"
     ]
    }
   ],
   "source": [
    "import csv\n",
    "\n",
    "#\n",
    "#Write a function that reads a CSV file named `data.csv` and prints its contents as a list of dictionaries.\n",
    "def read_csv_as_dicts(filename='data.csv'):\n",
    "    with open(filename, mode='r') as file:\n",
    "        csv_reader = csv.DictReader(file)\n",
    "        data = [row for row in csv_reader]\n",
    "        print(data)\n",
    "\n",
    "# Example usage\n",
    "read_csv_as_dicts()"
   ]
  },
  {
   "cell_type": "code",
   "execution_count": 39,
   "id": "f67d4ca5",
   "metadata": {},
   "outputs": [
    {
     "name": "stdout",
     "output_type": "stream",
     "text": [
      "\n"
     ]
    }
   ],
   "source": [
    "def read_protected_file(filename='protected.txt'):\n",
    "    try:\n",
    "        with open(filename, 'r') as file:\n",
    "            content = file.read()\n",
    "            print(content)\n",
    "    except PermissionError:\n",
    "        print(f\"Permission denied: Unable to read the file '{filename}'.\")\n",
    "\n",
    "# Example usage\n",
    "read_protected_file()"
   ]
  },
  {
   "cell_type": "code",
   "execution_count": null,
   "id": "940fd85d",
   "metadata": {},
   "outputs": [],
   "source": []
  }
 ],
 "metadata": {
  "kernelspec": {
   "display_name": "Python 3",
   "language": "python",
   "name": "python3"
  },
  "language_info": {
   "codemirror_mode": {
    "name": "ipython",
    "version": 3
   },
   "file_extension": ".py",
   "mimetype": "text/x-python",
   "name": "python",
   "nbconvert_exporter": "python",
   "pygments_lexer": "ipython3",
   "version": "3.12.0"
  }
 },
 "nbformat": 4,
 "nbformat_minor": 5
}
